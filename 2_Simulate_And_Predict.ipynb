{
 "cells": [
  {
   "cell_type": "code",
   "execution_count": 1,
   "metadata": {},
   "outputs": [],
   "source": [
    "%matplotlib qt\n",
    "%load_ext autoreload\n",
    "%autoreload 2\n",
    "\n",
    "import sys; sys.path.insert(0, '../invert')\n",
    "import mne\n",
    "import pickle as pkl\n",
    "from time import time\n",
    "\n",
    "from invert.forward import get_info, create_forward_model\n",
    "from invert.solvers.esinet import generator\n",
    "from invert import Solver"
   ]
  },
  {
   "attachments": {},
   "cell_type": "markdown",
   "metadata": {},
   "source": [
    "# Load Files"
   ]
  },
  {
   "cell_type": "code",
   "execution_count": 2,
   "metadata": {},
   "outputs": [
    {
     "name": "stdout",
     "output_type": "stream",
     "text": [
      "    No patch info available. The standard source space normals will be employed in the rotation to the local surface coordinates....\n",
      "    Changing to fixed-orientation forward solution with surface-based source orientations...\n",
      "    [done]\n"
     ]
    }
   ],
   "source": [
    "fwd = mne.read_forward_solution(\"forward_model/64ch_ico3-fwd.fif\", verbose=0)\n",
    "fwd = mne.convert_forward_solution(fwd, force_fixed=True)\n",
    "fn = \"forward_model/64ch_info.pkl\"\n",
    "with open(fn, 'rb') as f:\n",
    "    info = pkl.load(f)"
   ]
  },
  {
   "attachments": {},
   "cell_type": "markdown",
   "metadata": {},
   "source": [
    "# Simulate Data"
   ]
  },
  {
   "attachments": {},
   "cell_type": "markdown",
   "metadata": {},
   "source": [
    "## Settings"
   ]
  },
  {
   "cell_type": "code",
   "execution_count": 17,
   "metadata": {},
   "outputs": [],
   "source": [
    "generator_args_single = dict(\n",
    "    use_cov = False, \n",
    "    return_mask = False, \n",
    "    n_sources = 10, \n",
    "    n_orders = (0,0),\n",
    "    snr_range = (0.1, 100),\n",
    "    amplitude_range = (0.001, 1),\n",
    "    batch_repetitions = 1,\n",
    "    batch_size = 1000,\n",
    "    scale_data = False,\n",
    "    n_timepoints = 20,\n",
    "    beta_range = (0, 3),\n",
    "    return_info = True)\n",
    "\n",
    "generator_args_extended = dict(\n",
    "    use_cov = False, \n",
    "    return_mask = False, \n",
    "    n_sources = 10, \n",
    "    n_orders = (1, 4),\n",
    "    snr_range = (0.1, 20),\n",
    "    amplitude_range = (0.001, 1),\n",
    "    batch_repetitions = 1,\n",
    "    batch_size = 1000,\n",
    "    scale_data = False,\n",
    "    n_timepoints = 20,\n",
    "    beta_range = (0, 3),\n",
    "    return_info = True)\n",
    "\n",
    "generator_args = dict(extended=generator_args_extended, single=generator_args_single)\n",
    "solver_names = [\"FLEX-MUSIC\", \"TRAP-MUSIC\", \"eLORETA\", \"Convexity Champagne\", \"MCMV\"]\n",
    "recompute_list = [\"FLEX-MUSIC\", \"TRAP-MUSIC\", \"Convexity Champagne\", \"MCMV\"]"
   ]
  },
  {
   "cell_type": "code",
   "execution_count": 19,
   "metadata": {},
   "outputs": [
    {
     "name": "stdout",
     "output_type": "stream",
     "text": [
      "Sample  0\n",
      "Sample  1\n",
      "Sample  2\n",
      "Sample  3\n",
      "Sample  4\n",
      "Sample  5\n",
      "Sample  6\n"
     ]
    },
    {
     "ename": "KeyboardInterrupt",
     "evalue": "",
     "output_type": "error",
     "traceback": [
      "\u001b[1;31m---------------------------------------------------------------------------\u001b[0m",
      "\u001b[1;31mKeyboardInterrupt\u001b[0m                         Traceback (most recent call last)",
      "\u001b[1;32mc:\\Users\\lukas\\Dokumente\\projects\\flex_paper_analyses\\2_Simulate_And_Predict.ipynb Cell 7\u001b[0m in \u001b[0;36m<cell line: 6>\u001b[1;34m()\u001b[0m\n\u001b[0;32m     <a href='vscode-notebook-cell:/c%3A/Users/lukas/Dokumente/projects/flex_paper_analyses/2_Simulate_And_Predict.ipynb#W6sZmlsZQ%3D%3D?line=22'>23</a>\u001b[0m \u001b[39mif\u001b[39;00m solver_name \u001b[39min\u001b[39;00m recompute_list \u001b[39mor\u001b[39;00m i_sample \u001b[39m==\u001b[39m \u001b[39m0\u001b[39m:\n\u001b[0;32m     <a href='vscode-notebook-cell:/c%3A/Users/lukas/Dokumente/projects/flex_paper_analyses/2_Simulate_And_Predict.ipynb#W6sZmlsZQ%3D%3D?line=23'>24</a>\u001b[0m     start_make \u001b[39m=\u001b[39m time()\n\u001b[1;32m---> <a href='vscode-notebook-cell:/c%3A/Users/lukas/Dokumente/projects/flex_paper_analyses/2_Simulate_And_Predict.ipynb#W6sZmlsZQ%3D%3D?line=24'>25</a>\u001b[0m     solver\u001b[39m.\u001b[39;49mmake_inverse_operator(fwd, evoked, alpha\u001b[39m=\u001b[39;49m\u001b[39m\"\u001b[39;49m\u001b[39mauto\u001b[39;49m\u001b[39m\"\u001b[39;49m)\n\u001b[0;32m     <a href='vscode-notebook-cell:/c%3A/Users/lukas/Dokumente/projects/flex_paper_analyses/2_Simulate_And_Predict.ipynb#W6sZmlsZQ%3D%3D?line=25'>26</a>\u001b[0m     end_make \u001b[39m=\u001b[39m time()\n\u001b[0;32m     <a href='vscode-notebook-cell:/c%3A/Users/lukas/Dokumente/projects/flex_paper_analyses/2_Simulate_And_Predict.ipynb#W6sZmlsZQ%3D%3D?line=27'>28</a>\u001b[0m start_apply \u001b[39m=\u001b[39m time()\n",
      "File \u001b[1;32mc:\\Users\\lukas\\Dokumente\\projects\\flex_paper_analyses\\../invert\\invert\\solvers\\empirical_bayes.py:703\u001b[0m, in \u001b[0;36mSolverConvexityChampagne.make_inverse_operator\u001b[1;34m(self, forward, mne_obj, alpha, max_iter, noise_cov, prune, pruning_thresh, convergence_criterion, *args, **kwargs)\u001b[0m\n\u001b[0;32m    701\u001b[0m inverse_operators \u001b[39m=\u001b[39m []\n\u001b[0;32m    702\u001b[0m \u001b[39mfor\u001b[39;00m alpha \u001b[39min\u001b[39;00m \u001b[39mself\u001b[39m\u001b[39m.\u001b[39malphas:\n\u001b[1;32m--> 703\u001b[0m     inverse_operator \u001b[39m=\u001b[39m \u001b[39mself\u001b[39;49m\u001b[39m.\u001b[39;49mmackay_champagne(data, alpha, max_iter\u001b[39m=\u001b[39;49mmax_iter, prune\u001b[39m=\u001b[39;49mprune, pruning_thresh\u001b[39m=\u001b[39;49mpruning_thresh, convergence_criterion\u001b[39m=\u001b[39;49mconvergence_criterion)\n\u001b[0;32m    704\u001b[0m     inverse_operators\u001b[39m.\u001b[39mappend( inverse_operator )\n\u001b[0;32m    705\u001b[0m \u001b[39mself\u001b[39m\u001b[39m.\u001b[39minverse_operators \u001b[39m=\u001b[39m [InverseOperator(inverse_operator, \u001b[39mself\u001b[39m\u001b[39m.\u001b[39mname) \u001b[39mfor\u001b[39;00m inverse_operator \u001b[39min\u001b[39;00m inverse_operators]\n",
      "File \u001b[1;32mc:\\Users\\lukas\\Dokumente\\projects\\flex_paper_analyses\\../invert\\invert\\solvers\\empirical_bayes.py:775\u001b[0m, in \u001b[0;36mSolverConvexityChampagne.mackay_champagne\u001b[1;34m(self, Y, alpha, max_iter, prune, pruning_thresh, convergence_criterion)\u001b[0m\n\u001b[0;32m    773\u001b[0m Sigma_y_inv \u001b[39m=\u001b[39m np\u001b[39m.\u001b[39mlinalg\u001b[39m.\u001b[39minv(Sigma_y)\n\u001b[0;32m    774\u001b[0m \u001b[39m# Sigma_x = Gamma - Gamma @ L.T @ Sigma_y_inv @ L @ Gamma\u001b[39;00m\n\u001b[1;32m--> 775\u001b[0m mu_x \u001b[39m=\u001b[39m Gamma \u001b[39m@\u001b[39;49m L\u001b[39m.\u001b[39;49mT \u001b[39m@\u001b[39m Sigma_y_inv \u001b[39m@\u001b[39m Y_scaled\n\u001b[0;32m    776\u001b[0m loss \u001b[39m=\u001b[39m np\u001b[39m.\u001b[39mtrace(L\u001b[39m@Gamma\u001b[39m\u001b[39m@L\u001b[39m\u001b[39m.\u001b[39mT) \u001b[39m+\u001b[39m (\u001b[39m1\u001b[39m\u001b[39m/\u001b[39mn_times) \u001b[39m*\u001b[39m (Y_scaled\u001b[39m.\u001b[39mT\u001b[39m@Sigma_y\u001b[39m\u001b[39m@Y_scaled\u001b[39m)\u001b[39m.\u001b[39msum()\n\u001b[0;32m    777\u001b[0m \u001b[39m# first_term = z.T @ gammas\u001b[39;00m\n\u001b[0;32m    778\u001b[0m \u001b[39m# loss = first_term + second_term\u001b[39;00m\n",
      "\u001b[1;31mKeyboardInterrupt\u001b[0m: "
     ]
    }
   ],
   "source": [
    "# Generate Samples\n",
    "solver_mne = Solver(\"MNE\").make_inverse_operator(fwd)\n",
    "\n",
    "solvers = {solver_name: Solver(solver_name) for solver_name in solver_names}\n",
    "\n",
    "for sim_type, generator_args_ in generator_args.items():\n",
    "    proc_time_make = dict()\n",
    "    proc_time_apply = dict()\n",
    "    gen_test = generator(fwd, **generator_args_)\n",
    "    x_test, y_test, sim_info = gen_test.__next__()\n",
    "\n",
    "    stc_dict = dict()\n",
    "\n",
    "    for i_sample, (x_sample, y_sample) in enumerate(zip(x_test, y_test)):\n",
    "        print(\"Sample \", i_sample)\n",
    "        evoked = mne.EvokedArray(x_sample.T, info, tmin=0)\n",
    "        for solver_name, solver in solvers.items():\n",
    "            if i_sample == 0:\n",
    "                stc_dict[solver_name] = []\n",
    "                proc_time_make[solver_name] = []\n",
    "                proc_time_apply[solver_name] = []\n",
    "                \n",
    "            if solver_name in recompute_list or i_sample == 0:\n",
    "                start_make = time()\n",
    "                solver.make_inverse_operator(fwd, evoked, alpha=\"auto\")\n",
    "                end_make = time()\n",
    "            \n",
    "            start_apply = time()\n",
    "            stc = solver.apply_inverse_operator(evoked)\n",
    "            end_apply = time()\n",
    "            \n",
    "            stc_dict[solver_name].append(stc)\n",
    "            proc_time_make[solver_name].append(end_make - start_make)\n",
    "            proc_time_apply[solver_name].append(end_apply - start_apply)\n",
    "            \n",
    "            \n",
    "    fn = f\"evaluation/sim_and_preds_{sim_type}.pkl\"\n",
    "    with open(fn, 'wb') as f:\n",
    "        pkl.dump([stc_dict, x_test, y_test, sim_info, proc_time_make, proc_time_apply], f)"
   ]
  },
  {
   "attachments": {},
   "cell_type": "markdown",
   "metadata": {},
   "source": [
    "# Plot samples"
   ]
  },
  {
   "cell_type": "code",
   "execution_count": 22,
   "metadata": {},
   "outputs": [
    {
     "data": {
      "text/plain": [
       "n_sources                                            2\n",
       "amplitudes    [0.907917529887389, 0.26380035363660265]\n",
       "snr                                          16.147458\n",
       "Name: 2, dtype: object"
      ]
     },
     "metadata": {},
     "output_type": "display_data"
    },
    {
     "name": "stdout",
     "output_type": "stream",
     "text": [
      "Using control points [5.26725532e-05 1.53177692e-04 2.36555659e-02]\n",
      "Using control points [5.26725532e-05 1.53177692e-04 2.36555659e-02]\n",
      "Using control points [9.48860114e-05 2.84658034e-04 2.11078202e-02]\n",
      "Using control points [9.48860114e-05 2.84658034e-04 2.11078202e-02]\n",
      "Using control points [0.00000000e+00 7.78693932e-06 1.87411353e-02]\n",
      "Using control points [5.26725532e-05 1.53177692e-04 2.36555659e-02]\n",
      "Using control points [0.00012208 0.00099767 0.0134913 ]\n",
      "Using control points [8.04834742e-05 2.33942621e-04 1.30086290e-02]\n",
      "Using control points [0.00000000e+00 1.82359132e-05 1.06895868e-02]\n",
      "Using control points [0.00041055 0.00047471 0.00077506]\n",
      "Using control points [0.00041055 0.00047471 0.00077506]\n",
      "Using control points [0.00041055 0.00047471 0.00077506]\n",
      "Using control points [0.00012208 0.00099767 0.0134913 ]\n",
      "Using control points [0.00054711 0.0006143  0.00121755]\n",
      "Using control points [0.00054711 0.0006143  0.00121755]\n",
      "Using control points [0.00019641 0.00021089 0.00029645]\n",
      "Using control points [0.00019641 0.00021089 0.00029645]\n",
      "Using control points [0.00019641 0.00021089 0.00029645]\n",
      "Using control points [0.00019641 0.00021089 0.00029645]\n"
     ]
    }
   ],
   "source": [
    "pp = dict(surface='white', hemi='both', verbose=0)\n",
    "sample = 2\n",
    "\n",
    "stc_ = stc.copy()\n",
    "stc_.data = y_test[sample].T\n",
    "stc_.plot(**pp, brain_kwargs=dict(title=\"True\"))\n",
    "\n",
    "for solver, stc_list in stc_dict.items():\n",
    "    stc_list[sample].plot(**pp, brain_kwargs=dict(title=solver))\n",
    "display(sim_info.iloc[sample])"
   ]
  },
  {
   "cell_type": "code",
   "execution_count": null,
   "metadata": {},
   "outputs": [],
   "source": []
  }
 ],
 "metadata": {
  "kernelspec": {
   "display_name": "invertenv",
   "language": "python",
   "name": "python3"
  },
  "language_info": {
   "codemirror_mode": {
    "name": "ipython",
    "version": 3
   },
   "file_extension": ".py",
   "mimetype": "text/x-python",
   "name": "python",
   "nbconvert_exporter": "python",
   "pygments_lexer": "ipython3",
   "version": "3.8.10"
  },
  "orig_nbformat": 4,
  "vscode": {
   "interpreter": {
    "hash": "dda1e5657e486f74a7b39841fb8103db2af51a77394f44c39a7821a371af47bd"
   }
  }
 },
 "nbformat": 4,
 "nbformat_minor": 2
}
