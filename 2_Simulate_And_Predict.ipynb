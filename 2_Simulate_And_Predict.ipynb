{
 "cells": [
  {
   "cell_type": "code",
   "execution_count": 1,
   "metadata": {},
   "outputs": [],
   "source": [
    "%matplotlib qt\n",
    "%load_ext autoreload\n",
    "%autoreload 2\n",
    "\n",
    "import sys; sys.path.insert(0, '../invert')\n",
    "import mne\n",
    "import pickle as pkl\n",
    "from time import time\n",
    "\n",
    "from invert.forward import get_info, create_forward_model\n",
    "from invert.solvers.esinet import generator\n",
    "from invert import Solver"
   ]
  },
  {
   "attachments": {},
   "cell_type": "markdown",
   "metadata": {},
   "source": [
    "# Load Files"
   ]
  },
  {
   "cell_type": "code",
   "execution_count": 2,
   "metadata": {},
   "outputs": [
    {
     "name": "stdout",
     "output_type": "stream",
     "text": [
      "    No patch info available. The standard source space normals will be employed in the rotation to the local surface coordinates....\n",
      "    Changing to fixed-orientation forward solution with surface-based source orientations...\n",
      "    [done]\n"
     ]
    }
   ],
   "source": [
    "fwd = mne.read_forward_solution(\"forward_model/64ch_ico3-fwd.fif\", verbose=0)\n",
    "fwd = mne.convert_forward_solution(fwd, force_fixed=True)\n",
    "fn = \"forward_model/64ch_info.pkl\"\n",
    "with open(fn, 'rb') as f:\n",
    "    info = pkl.load(f)"
   ]
  },
  {
   "attachments": {},
   "cell_type": "markdown",
   "metadata": {},
   "source": [
    "# Simulate Data"
   ]
  },
  {
   "attachments": {},
   "cell_type": "markdown",
   "metadata": {},
   "source": [
    "## Settings"
   ]
  },
  {
   "cell_type": "code",
   "execution_count": 23,
   "metadata": {},
   "outputs": [],
   "source": [
    "generator_args_single = dict(\n",
    "    use_cov = False, \n",
    "    return_mask = False, \n",
    "    n_sources = 10, \n",
    "    n_orders = (0,0),\n",
    "    snr_range = (0.1, 100),\n",
    "    amplitude_range = (0.001, 1),\n",
    "    batch_repetitions = 1,\n",
    "    batch_size = 1000,\n",
    "    scale_data = False,\n",
    "    n_timepoints = 20,\n",
    "    beta_range = (0, 3),\n",
    "    return_info = True)\n",
    "\n",
    "generator_args_extended = dict(\n",
    "    use_cov = False, \n",
    "    return_mask = False, \n",
    "    n_sources = 10, \n",
    "    n_orders = (1, 4),\n",
    "    snr_range = (0.1, 20),\n",
    "    amplitude_range = (0.001, 1),\n",
    "    batch_repetitions = 1,\n",
    "    batch_size = 1000,\n",
    "    scale_data = False,\n",
    "    n_timepoints = 20,\n",
    "    beta_range = (0, 3),\n",
    "    return_info = True)\n",
    "\n",
    "generator_args = dict(extended=generator_args_extended, single=generator_args_single)\n",
    "solver_names = [\"FLEX-MUSIC\", \"TRAP-MUSIC\", \"eLORETA\", \"Convexity Champagne\", \"MCMV\"]\n",
    "recompute_list = [\"FLEX-MUSIC\", \"TRAP-MUSIC\", \"Convexity Champagne\", \"MCMV\"]"
   ]
  },
  {
   "cell_type": "code",
   "execution_count": 24,
   "metadata": {},
   "outputs": [
    {
     "name": "stdout",
     "output_type": "stream",
     "text": [
      "Sample  0\n",
      "Sample  1\n",
      "Sample  2\n",
      "Sample  3\n",
      "Sample  4\n",
      "Sample  5\n",
      "Sample  6\n",
      "Sample  7\n",
      "Sample  8\n",
      "Sample  9\n",
      "Sample  10\n",
      "Sample  11\n",
      "Sample  12\n",
      "Sample  13\n",
      "Sample  14\n",
      "Sample  15\n",
      "Sample  16\n",
      "Sample  17\n",
      "Sample  18\n",
      "Sample  19\n",
      "Sample  20\n",
      "Sample  21\n",
      "Sample  22\n",
      "Sample  23\n",
      "Sample  24\n",
      "Sample  25\n",
      "Sample  26\n",
      "Sample  27\n",
      "Sample  28\n",
      "Sample  29\n",
      "Sample  30\n",
      "Sample  31\n",
      "Sample  32\n",
      "Sample  33\n",
      "Sample  34\n",
      "Sample  35\n",
      "Sample  36\n",
      "Sample  37\n",
      "Sample  38\n",
      "Sample  39\n",
      "Sample  40\n",
      "Sample  41\n",
      "Sample  42\n",
      "Sample  43\n",
      "Sample  44\n",
      "Sample  45\n",
      "Sample  46\n",
      "Sample  47\n",
      "Sample  48\n",
      "Sample  49\n",
      "Sample  50\n",
      "Sample  51\n",
      "Sample  52\n",
      "Sample  53\n",
      "Sample  54\n",
      "Sample  55\n",
      "Sample  56\n",
      "Sample  57\n",
      "Sample  58\n",
      "Sample  59\n",
      "Sample  60\n",
      "Sample  61\n",
      "Sample  62\n",
      "Sample  63\n",
      "Sample  64\n",
      "Sample  65\n",
      "Sample  66\n",
      "Sample  67\n",
      "Sample  68\n",
      "Sample  69\n",
      "Sample  70\n",
      "Sample  71\n",
      "Sample  72\n",
      "Sample  73\n",
      "Sample  74\n",
      "Sample  75\n",
      "Sample  76\n",
      "Sample  77\n",
      "Sample  78\n",
      "Sample  79\n",
      "Sample  80\n",
      "Sample  81\n",
      "Sample  82\n",
      "Sample  83\n",
      "Sample  84\n",
      "Sample  85\n",
      "Sample  86\n",
      "Sample  87\n",
      "Sample  88\n",
      "Sample  89\n",
      "Sample  90\n",
      "Sample  91\n",
      "Sample  92\n",
      "Sample  93\n",
      "Sample  94\n",
      "Sample  95\n",
      "Sample  96\n",
      "Sample  97\n",
      "Sample  98\n",
      "Sample  99\n",
      "Sample  100\n",
      "Sample  101\n",
      "Sample  102\n",
      "Sample  103\n",
      "Sample  104\n",
      "Sample  105\n",
      "Sample  106\n",
      "Sample  107\n",
      "Sample  108\n",
      "Sample  109\n",
      "Sample  110\n",
      "Sample  111\n",
      "Sample  112\n",
      "Sample  113\n",
      "Sample  114\n",
      "Sample  115\n",
      "Sample  116\n",
      "Sample  117\n",
      "Sample  118\n"
     ]
    }
   ],
   "source": [
    "# Generate Samples\n",
    "solvers = {solver_name: Solver(solver_name) for solver_name in solver_names}\n",
    "for sim_type, generator_args_ in generator_args.items():\n",
    "    proc_time_make = dict()\n",
    "    proc_time_apply = dict()\n",
    "    gen_test = generator(fwd, **generator_args_)\n",
    "    x_test, y_test, sim_info = gen_test.__next__()\n",
    "\n",
    "    stc_dict = dict()\n",
    "\n",
    "    for i_sample, (x_sample, y_sample) in enumerate(zip(x_test, y_test)):\n",
    "        print(\"Sample \", i_sample)\n",
    "        evoked = mne.EvokedArray(x_sample.T, info, tmin=0)\n",
    "        for solver_name, solver in solvers.items():\n",
    "            if i_sample == 0:\n",
    "                stc_dict[solver_name] = []\n",
    "                proc_time_make[solver_name] = []\n",
    "                proc_time_apply[solver_name] = []\n",
    "                \n",
    "            if solver_name in recompute_list or i_sample == 0:\n",
    "                start_make = time()\n",
    "                solver.make_inverse_operator(fwd, evoked, alpha=\"auto\")\n",
    "                end_make = time()\n",
    "            \n",
    "            start_apply = time()\n",
    "            stc = solver.apply_inverse_operator(evoked)\n",
    "            end_apply = time()\n",
    "            \n",
    "            stc_dict[solver_name].append(stc)\n",
    "            proc_time_make[solver_name].append(end_make - start_make)\n",
    "            proc_time_apply[solver_name].append(end_apply - start_apply)\n",
    "            \n",
    "    fn = f\"evaluation/sim_and_preds_{sim_type}.pkl\"\n",
    "    with open(fn, 'wb') as f:\n",
    "        pkl.dump([stc_dict, x_test, y_test, sim_info, proc_time_make, proc_time_apply], f)"
   ]
  },
  {
   "attachments": {},
   "cell_type": "markdown",
   "metadata": {},
   "source": [
    "# Plot samples"
   ]
  },
  {
   "cell_type": "code",
   "execution_count": 22,
   "metadata": {},
   "outputs": [
    {
     "data": {
      "text/plain": [
       "n_sources                                            2\n",
       "amplitudes    [0.907917529887389, 0.26380035363660265]\n",
       "snr                                          16.147458\n",
       "Name: 2, dtype: object"
      ]
     },
     "metadata": {},
     "output_type": "display_data"
    },
    {
     "name": "stdout",
     "output_type": "stream",
     "text": [
      "Using control points [5.26725532e-05 1.53177692e-04 2.36555659e-02]\n",
      "Using control points [5.26725532e-05 1.53177692e-04 2.36555659e-02]\n",
      "Using control points [9.48860114e-05 2.84658034e-04 2.11078202e-02]\n",
      "Using control points [9.48860114e-05 2.84658034e-04 2.11078202e-02]\n",
      "Using control points [0.00000000e+00 7.78693932e-06 1.87411353e-02]\n",
      "Using control points [5.26725532e-05 1.53177692e-04 2.36555659e-02]\n",
      "Using control points [0.00012208 0.00099767 0.0134913 ]\n",
      "Using control points [8.04834742e-05 2.33942621e-04 1.30086290e-02]\n",
      "Using control points [0.00000000e+00 1.82359132e-05 1.06895868e-02]\n",
      "Using control points [0.00041055 0.00047471 0.00077506]\n",
      "Using control points [0.00041055 0.00047471 0.00077506]\n",
      "Using control points [0.00041055 0.00047471 0.00077506]\n",
      "Using control points [0.00012208 0.00099767 0.0134913 ]\n",
      "Using control points [0.00054711 0.0006143  0.00121755]\n",
      "Using control points [0.00054711 0.0006143  0.00121755]\n",
      "Using control points [0.00019641 0.00021089 0.00029645]\n",
      "Using control points [0.00019641 0.00021089 0.00029645]\n",
      "Using control points [0.00019641 0.00021089 0.00029645]\n",
      "Using control points [0.00019641 0.00021089 0.00029645]\n"
     ]
    }
   ],
   "source": [
    "pp = dict(surface='white', hemi='both', verbose=0)\n",
    "sample = 2\n",
    "\n",
    "stc_ = stc.copy()\n",
    "stc_.data = y_test[sample].T\n",
    "stc_.plot(**pp, brain_kwargs=dict(title=\"True\"))\n",
    "\n",
    "for solver, stc_list in stc_dict.items():\n",
    "    stc_list[sample].plot(**pp, brain_kwargs=dict(title=solver))\n",
    "display(sim_info.iloc[sample])"
   ]
  },
  {
   "cell_type": "code",
   "execution_count": null,
   "metadata": {},
   "outputs": [],
   "source": []
  }
 ],
 "metadata": {
  "kernelspec": {
   "display_name": "invertenv",
   "language": "python",
   "name": "python3"
  },
  "language_info": {
   "codemirror_mode": {
    "name": "ipython",
    "version": 3
   },
   "file_extension": ".py",
   "mimetype": "text/x-python",
   "name": "python",
   "nbconvert_exporter": "python",
   "pygments_lexer": "ipython3",
   "version": "3.8.10"
  },
  "orig_nbformat": 4,
  "vscode": {
   "interpreter": {
    "hash": "dda1e5657e486f74a7b39841fb8103db2af51a77394f44c39a7821a371af47bd"
   }
  }
 },
 "nbformat": 4,
 "nbformat_minor": 2
}
