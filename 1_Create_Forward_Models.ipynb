{
 "cells": [
  {
   "cell_type": "code",
   "execution_count": 3,
   "metadata": {},
   "outputs": [],
   "source": [
    "import sys; sys.path.insert(0, r'C:\\Users\\Lukas\\Documents\\projects\\invert')\n",
    "from invert.forward import get_info, create_forward_model\n",
    "import mne\n",
    "import pickle as pkl"
   ]
  },
  {
   "attachments": {},
   "cell_type": "markdown",
   "metadata": {},
   "source": [
    "# Calculate Forward Model"
   ]
  },
  {
   "cell_type": "code",
   "execution_count": 5,
   "metadata": {},
   "outputs": [
    {
     "name": "stderr",
     "output_type": "stream",
     "text": [
      "C:\\Users\\Lukas\\Documents\\projects\\invert\\invert\\forward\\forward.py:55: RuntimeWarning: joblib not installed. Cannot run in parallel.\n",
      "  fwd = mne.make_forward_solution(info, trans=trans, src=src,\n",
      "C:\\Users\\Lukas\\Documents\\projects\\invert\\invert\\forward\\forward.py:55: RuntimeWarning: joblib not installed. Cannot run in parallel.\n",
      "  fwd = mne.make_forward_solution(info, trans=trans, src=src,\n",
      "C:\\Users\\Lukas\\Documents\\projects\\invert\\invert\\forward\\forward.py:55: RuntimeWarning: joblib not installed. Cannot run in parallel.\n",
      "  fwd = mne.make_forward_solution(info, trans=trans, src=src,\n"
     ]
    }
   ],
   "source": [
    "info = get_info(kind=\"biosemi64\")\n",
    "fwd = create_forward_model(sampling=\"ico3\", info=info)"
   ]
  },
  {
   "attachments": {},
   "cell_type": "markdown",
   "metadata": {},
   "source": [
    "# Save"
   ]
  },
  {
   "cell_type": "code",
   "execution_count": 6,
   "metadata": {},
   "outputs": [
    {
     "name": "stderr",
     "output_type": "stream",
     "text": [
      "C:\\Users\\Lukas\\AppData\\Local\\Temp\\ipykernel_2560\\1477798820.py:4: RuntimeWarning: This forward solution is based on a forward solution with free orientation. The original forward solution is stored on disk in X/Y/Z RAS coordinates. Any transformation (surface orientation or fixed orientation) will be reverted. To reapply any transformation to the forward operator please apply convert_forward_solution after reading the forward solution with read_forward_solution.\n",
      "  mne.write_forward_solution(\"forward_model/64ch_ico3-fwd.fif\", fwd, overwrite=True, verbose=0)\n"
     ]
    }
   ],
   "source": [
    "fn = \"forward_model/64ch_info.pkl\"\n",
    "with open(fn, 'wb') as f:\n",
    "    pkl.dump(info, f)\n",
    "mne.write_forward_solution(\"forward_model/64ch_ico3-fwd.fif\", fwd, overwrite=True, verbose=0)"
   ]
  },
  {
   "cell_type": "code",
   "execution_count": null,
   "metadata": {},
   "outputs": [],
   "source": []
  }
 ],
 "metadata": {
  "kernelspec": {
   "display_name": "invertenv",
   "language": "python",
   "name": "python3"
  },
  "language_info": {
   "codemirror_mode": {
    "name": "ipython",
    "version": 3
   },
   "file_extension": ".py",
   "mimetype": "text/x-python",
   "name": "python",
   "nbconvert_exporter": "python",
   "pygments_lexer": "ipython3",
   "version": "3.8.10"
  },
  "orig_nbformat": 4,
  "vscode": {
   "interpreter": {
    "hash": "dda1e5657e486f74a7b39841fb8103db2af51a77394f44c39a7821a371af47bd"
   }
  }
 },
 "nbformat": 4,
 "nbformat_minor": 2
}
